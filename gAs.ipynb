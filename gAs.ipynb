{
  "nbformat": 4,
  "nbformat_minor": 0,
  "metadata": {
    "colab": {
      "name": "gAs.ipynb",
      "private_outputs": true,
      "provenance": [],
      "collapsed_sections": [],
      "mount_file_id": "1R5N15YwqKPCbm_3Z47mOTaCEJrgmOrTn",
      "authorship_tag": "ABX9TyP2hOoKUjdtiQp4IM5AaBXu",
      "include_colab_link": true
    },
    "kernelspec": {
      "name": "python3",
      "display_name": "Python 3"
    },
    "language_info": {
      "name": "python"
    }
  },
  "cells": [
    {
      "cell_type": "markdown",
      "metadata": {
        "id": "view-in-github",
        "colab_type": "text"
      },
      "source": [
        "<a href=\"https://colab.research.google.com/github/YoonJiHwan98/dacon_code/blob/develop/gAs.ipynb\" target=\"_parent\"><img src=\"https://colab.research.google.com/assets/colab-badge.svg\" alt=\"Open In Colab\"/></a>"
      ]
    },
    {
      "cell_type": "code",
      "metadata": {
        "id": "tbJWqQCB3Mnb"
      },
      "source": [
        "import pandas as pd\n",
        "import numpy as np\n",
        "import matplotlib.pyplot as plt\n",
        "import seaborn as sns\n",
        "import datetime\n",
        "\n",
        "from statsmodels.tsa.arima_model import ARIMA\n",
        "import statsmodels.api as sm\n",
        "from statsmodels.tsa.api import ExponentialSmoothing, SimpleExpSmoothing, Holt"
      ],
      "execution_count": null,
      "outputs": []
    },
    {
      "cell_type": "code",
      "metadata": {
        "id": "5sJelL2Lwv9a"
      },
      "source": [
        "!git clone https://github.com/YoonJiHwan98/TIL.git"
      ],
      "execution_count": null,
      "outputs": []
    },
    {
      "cell_type": "code",
      "metadata": {
        "id": "orT4IwJt85qq"
      },
      "source": [
        "!sudo apt-get install -y fonts-nanum\n",
        "!sudo fc-cache -fv\n",
        "!rm ~/.cache/matplotlib -rf\n",
        "\n",
        "plt.rc('font', family='NanumBarunGothic') "
      ],
      "execution_count": null,
      "outputs": []
    },
    {
      "cell_type": "code",
      "metadata": {
        "id": "GWX0g1gx3TnO"
      },
      "source": [
        "data = pd.read_csv('/content/drive/MyDrive/TAVE 머신러닝 스터디/Gas/한국가스공사_시간별 공급량_20181231.csv',encoding = 'cp949')\n",
        "test = pd.read_csv('/content/drive/MyDrive/TAVE 머신러닝 스터디/Gas/test.csv')\n",
        "submission = pd.read_csv('/content/drive/MyDrive/TAVE 머신러닝 스터디/Gas/sample_submission.csv')"
      ],
      "execution_count": null,
      "outputs": []
    },
    {
      "cell_type": "code",
      "metadata": {
        "id": "YD6e_GBrC3S_"
      },
      "source": [
        "test"
      ],
      "execution_count": null,
      "outputs": []
    },
    {
      "cell_type": "code",
      "metadata": {
        "id": "PGHZe2zQlISC"
      },
      "source": [
        "data"
      ],
      "execution_count": null,
      "outputs": []
    },
    {
      "cell_type": "code",
      "metadata": {
        "id": "c0ru0hHa30Ey"
      },
      "source": [
        "#data['연월일시'] = \n",
        "data['시간'] = data['시간'].astype(str)"
      ],
      "execution_count": null,
      "outputs": []
    },
    {
      "cell_type": "code",
      "metadata": {
        "id": "6ycnk0tw3_sI"
      },
      "source": [
        "data['시간'] = data['시간'].map({'1' : '01','2' : '02','3' : '03','4' : '04','5' : '05','6' : '06','7' : '07','8' : '08','9' : '09','10' : '10','11' : '11','12' : '12','13' : '13','14' : '14','15' : '15','16' : '16','17' : '17','18' : '18','19' : '19','20' : '20','21' : '21','22' : '22','23' : '23','24' : '00'})"
      ],
      "execution_count": null,
      "outputs": []
    },
    {
      "cell_type": "code",
      "metadata": {
        "id": "J3_RCbDyL0Xi"
      },
      "source": [
        "data['시간'] = data['시간'].astype(str)"
      ],
      "execution_count": null,
      "outputs": []
    },
    {
      "cell_type": "code",
      "metadata": {
        "id": "ClBdP8uJkBha"
      },
      "source": [
        "data['연월일시'] = data['연월일'] + '-' + data['시간']\n",
        "data"
      ],
      "execution_count": null,
      "outputs": []
    },
    {
      "cell_type": "code",
      "metadata": {
        "id": "b6s5jNsINdSx"
      },
      "source": [
        "data1 = data.copy()"
      ],
      "execution_count": null,
      "outputs": []
    },
    {
      "cell_type": "code",
      "metadata": {
        "id": "1KRCLoMnP0WE"
      },
      "source": [
        "data1['연월일'] = data1['연월일'].astype(str)\n",
        "data1['연월일시'] = data1['연월일'] + ' ' + data1['시간']"
      ],
      "execution_count": null,
      "outputs": []
    },
    {
      "cell_type": "code",
      "metadata": {
        "id": "wPOur3GzPUDl"
      },
      "source": [
        "data1['연월일시'] = data1['연월일시'].apply(lambda x : pd.to_datetime(x.split()[0]) + datetime.timedelta(days=1) if x.split()[1] == '24' else x)\n",
        "data1['연월일시'] = pd.to_datetime(data1['연월일시'])\n",
        "data1"
      ],
      "execution_count": null,
      "outputs": []
    },
    {
      "cell_type": "code",
      "metadata": {
        "id": "lh4JwzEEnkgo"
      },
      "source": [
        "data1"
      ],
      "execution_count": null,
      "outputs": []
    },
    {
      "cell_type": "code",
      "metadata": {
        "id": "y2HMdOHf45h-"
      },
      "source": [
        "! pip install pystan==2.19.1.1\n",
        "! pip install prophet\n",
        "!pip install statsmodels==0.11.1\n",
        "!pip install fbprophet==0.7.1"
      ],
      "execution_count": null,
      "outputs": []
    },
    {
      "cell_type": "code",
      "metadata": {
        "id": "2PaSrCIdJej_"
      },
      "source": [
        "df_A = data[data['구분'] == \"A\"]"
      ],
      "execution_count": null,
      "outputs": []
    },
    {
      "cell_type": "code",
      "metadata": {
        "id": "iGTzHselPu-U"
      },
      "source": [
        "df_A['ds'] = df_A['연월일'] \n",
        "df_A['y'] = df_A['공급량'] \n",
        "\n",
        "data = df_A[['ds', 'y']]\n"
      ],
      "execution_count": null,
      "outputs": []
    },
    {
      "cell_type": "code",
      "metadata": {
        "id": "oP741T4KPjUk"
      },
      "source": [
        "#df_A = df_A.set_index('연월일')\n",
        "#df_A.drop(columns=['시간','구분'],inplace = True)\n",
        "df_A"
      ],
      "execution_count": null,
      "outputs": []
    },
    {
      "cell_type": "code",
      "metadata": {
        "id": "ab7uYV3fBgHD"
      },
      "source": [
        "# Python\n",
        "import pandas as pd\n",
        "from prophet import Prophet\n"
      ],
      "execution_count": null,
      "outputs": []
    },
    {
      "cell_type": "markdown",
      "metadata": {
        "id": "oL1gS8BCUbYc"
      },
      "source": [
        "https://dacon.io/codeshare/2326\n",
        "\n",
        "https://dacon.io/codeshare/2327?page&dtype&ptype"
      ]
    },
    {
      "cell_type": "code",
      "metadata": {
        "id": "JhcE5UYAM0hZ"
      },
      "source": [
        "#df['time'].apply(lambda x: pd.to_datetime(x.split()[0]) + timedelta)"
      ],
      "execution_count": null,
      "outputs": []
    },
    {
      "cell_type": "code",
      "metadata": {
        "id": "B9SU8BwAWKYQ"
      },
      "source": [
        "#pred_df = forecast.iloc[19008:]\n",
        "#pred_df['DateTime'] = pred_df['ds'].apply(lambda x: datetime.datetime.strftime(x,'%Y-%m-%d'))"
      ],
      "execution_count": null,
      "outputs": []
    },
    {
      "cell_type": "code",
      "metadata": {
        "id": "8DqvBlt8WsYi"
      },
      "source": [
        "#pred_df.groupby('DateTime')['yhat'].mean().reset_index(name = 'pred').head()"
      ],
      "execution_count": null,
      "outputs": []
    },
    {
      "cell_type": "code",
      "metadata": {
        "id": "aMqppYQPWuog"
      },
      "source": [
        "submission"
      ],
      "execution_count": null,
      "outputs": []
    },
    {
      "cell_type": "code",
      "metadata": {
        "id": "7RpzrGn8CBYV"
      },
      "source": [
        "data"
      ],
      "execution_count": null,
      "outputs": []
    },
    {
      "cell_type": "code",
      "metadata": {
        "id": "bK6CSKBZGOnA"
      },
      "source": [
        "data['year'] = data['연월일'].dt.year\n",
        "data['month'] = data['연월일'].dt.month\n",
        "data['day'] = data['연월일'].dt.day\n",
        "data['weekday'] = data['연월일'].dt.weekday"
      ],
      "execution_count": null,
      "outputs": []
    },
    {
      "cell_type": "code",
      "metadata": {
        "id": "TgXuE_lmGeFf"
      },
      "source": [
        "data['구분'].unique"
      ],
      "execution_count": null,
      "outputs": []
    },
    {
      "cell_type": "code",
      "metadata": {
        "id": "6SWHM2ciG1r_"
      },
      "source": [
        "from sklearn.linear_model import LinearRegression\n",
        "\n",
        "linear_model = LinearRegression()\n",
        "linear_model.fit(df_ins[['age','bmi','children']], df_ins.charges)\n"
      ],
      "execution_count": null,
      "outputs": []
    },
    {
      "cell_type": "code",
      "metadata": {
        "id": "iSQ5E0N8HoIM"
      },
      "source": [
        "data['구분'] = data['구분'].astype('category')\n",
        "data['weekday'] = data['weekday'].astype('category')"
      ],
      "execution_count": null,
      "outputs": []
    },
    {
      "cell_type": "code",
      "metadata": {
        "id": "tECDCEx7HpiN"
      },
      "source": [
        "data['구분'] = data['구분'].map({'A' : '1','B' : '2','C' : '3','D' : '4','E' : '5','G' : '6','H' : '7'})"
      ],
      "execution_count": null,
      "outputs": []
    },
    {
      "cell_type": "code",
      "metadata": {
        "id": "oDUzs_7DJT-E"
      },
      "source": [
        "data[data['공급량'] < 10]['연월일'].unique()"
      ],
      "execution_count": null,
      "outputs": []
    },
    {
      "cell_type": "code",
      "metadata": {
        "id": "FGYlDAH4MZ9n"
      },
      "source": [
        "datach = data[(data['구분'] == 'C') | (data['구분'] == 'H')]"
      ],
      "execution_count": null,
      "outputs": []
    },
    {
      "cell_type": "code",
      "metadata": {
        "id": "hHW_zlGKKBBs"
      },
      "source": [
        "from sklearn.linear_model import LinearRegression\n",
        "\n",
        "linear_model = LinearRegression()\n",
        "#linear_model.fit(data[['시간','구분','year','month','day','weekday']], data.공급량)"
      ],
      "execution_count": null,
      "outputs": []
    },
    {
      "cell_type": "code",
      "metadata": {
        "id": "j8UDfzMNLp1_"
      },
      "source": [
        "data"
      ],
      "execution_count": null,
      "outputs": []
    },
    {
      "cell_type": "code",
      "metadata": {
        "id": "bQvH8gvhMuVW"
      },
      "source": [
        "sns.lineplot(data = datach ,x = '연월일',y = '공급량',hue = '구분')"
      ],
      "execution_count": null,
      "outputs": []
    },
    {
      "cell_type": "code",
      "metadata": {
        "id": "K2R6UwOjM6sN"
      },
      "source": [
        "datach[datach['공급량'] > 1000]"
      ],
      "execution_count": null,
      "outputs": []
    },
    {
      "cell_type": "code",
      "metadata": {
        "id": "q4etr92WPn1C"
      },
      "source": [
        "datach[datach['공급량'] < 10]['구분'].unique()"
      ],
      "execution_count": null,
      "outputs": []
    },
    {
      "cell_type": "code",
      "metadata": {
        "id": "y1OqYHzLOX1Z"
      },
      "source": [
        "data[(data['공급량'] > 1000) & (data['구분'] == 'H')]"
      ],
      "execution_count": null,
      "outputs": []
    },
    {
      "cell_type": "code",
      "metadata": {
        "id": "DTsGO34yO4WY"
      },
      "source": [
        "df_h = data1[data1['구분'] == 'H']\n",
        "df_e = data1[data1['구분'] == 'E']"
      ],
      "execution_count": null,
      "outputs": []
    },
    {
      "cell_type": "code",
      "metadata": {
        "id": "prZewPQoPGyZ"
      },
      "source": [
        "sns.lineplot(data=df_h , x = '연월일시',y = '공급량')\n",
        "plt.show()"
      ],
      "execution_count": null,
      "outputs": []
    },
    {
      "cell_type": "code",
      "metadata": {
        "id": "dmR5WrrRSx4q"
      },
      "source": [
        "sns.lineplot(data=df_e , x = '연월일시',y = '공급량')\n",
        "plt.show()"
      ],
      "execution_count": null,
      "outputs": []
    },
    {
      "cell_type": "code",
      "metadata": {
        "id": "4y_QWzQXJknq"
      },
      "source": [
        "df_h.loc[237216,'공급량'] =None\n",
        "df_h.loc[237217,'공급량'] =None\n",
        "df_h.loc[239116,'공급량']= None\n",
        "df_h.loc[303299,'공급량']= None\n",
        "df_h.loc[303300,'공급량']= None\n",
        "\n",
        "# 아니면 람다 함수\n",
        "#data1['연월일시'] = \n",
        "df_h['공급량'].apply(lambda x : None if x.split()[1] == '24' else x)"
      ],
      "execution_count": null,
      "outputs": []
    },
    {
      "cell_type": "code",
      "metadata": {
        "id": "8Xtx2nsrKJGP"
      },
      "source": [
        "df_h.fillna(method='ffill',inplace = True)"
      ],
      "execution_count": null,
      "outputs": []
    },
    {
      "cell_type": "code",
      "metadata": {
        "id": "9i93GMeNUZJB"
      },
      "source": [
        "sns.lineplot(data=df_h , x = '연월일시',y = '공급량')\n",
        "plt.show()"
      ],
      "execution_count": null,
      "outputs": []
    },
    {
      "cell_type": "code",
      "metadata": {
        "id": "poLmnv63CODc"
      },
      "source": [
        "m = Prophet() \n",
        "m.fit(data) \n",
        "future = m.make_future_dataframe(periods=1464, freq='H') \n",
        "forecast = m.predict(future) \n",
        "fig1 = m.plot(forecast)"
      ],
      "execution_count": null,
      "outputs": []
    },
    {
      "cell_type": "code",
      "metadata": {
        "id": "aiWzDEbi3YLe"
      },
      "source": [
        ""
      ],
      "execution_count": null,
      "outputs": []
    },
    {
      "cell_type": "code",
      "metadata": {
        "id": "SibiKwkkOvVV"
      },
      "source": [
        "forecast"
      ],
      "execution_count": null,
      "outputs": []
    },
    {
      "cell_type": "code",
      "metadata": {
        "id": "1iBUd2lvkCoO"
      },
      "source": [
        "testA = test[test['일자|시간|구분'].str.contains('A')]\n",
        "testB = test[test['일자|시간|구분'].str.contains('B')]\n",
        "testC = test[test['일자|시간|구분'].str.contains('C')]\n",
        "testD = test[test['일자|시간|구분'].str.contains('D')]\n",
        "testE = test[test['일자|시간|구분'].str.contains('E')]\n",
        "testF = test[test['일자|시간|구분'].str.contains('F')]\n",
        "testH = test[test['일자|시간|구분'].str.contains('H')]"
      ],
      "execution_count": null,
      "outputs": []
    },
    {
      "cell_type": "code",
      "metadata": {
        "id": "Nc8r26LXkQ6Q"
      },
      "source": [
        ""
      ],
      "execution_count": null,
      "outputs": []
    }
  ]
}